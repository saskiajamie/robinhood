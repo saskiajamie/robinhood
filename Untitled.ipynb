{
 "cells": [
  {
   "cell_type": "code",
   "execution_count": 76,
   "id": "5a25ed04",
   "metadata": {},
   "outputs": [
    {
     "ename": "IndentationError",
     "evalue": "expected an indented block (3253108797.py, line 14)",
     "output_type": "error",
     "traceback": [
      "\u001b[0;36m  File \u001b[0;32m\"/var/folders/gp/h6xslnn90qxcnqjpjn3xwjp00000gn/T/ipykernel_15312/3253108797.py\"\u001b[0;36m, line \u001b[0;32m14\u001b[0m\n\u001b[0;31m    rows = []\u001b[0m\n\u001b[0m    ^\u001b[0m\n\u001b[0;31mIndentationError\u001b[0m\u001b[0;31m:\u001b[0m expected an indented block\n"
     ]
    }
   ],
   "source": [
    "import json\n",
    "import pandas\n",
    "\n",
    "def cross_join(left, right):\n",
    "    return left.assign(key=1).merge(right.assign(key=1), on='key', how='outer').drop('key', 1)\n",
    "\n",
    "def json_to_dataframe(data_in):\n",
    "    def to_frame(data, prev_key=None):\n",
    "        if isinstance(data, dict):\n",
    "            df = pandas.DataFrame()\n",
    "            for key in data:\n",
    "                df = cross_join(df, to_frame(data[key], prev_key + '.' + key))\n",
    "        elif isinstance(data, list):\n",
    "        rows = []\n",
    "        if(len(data) != 0):\n",
    "            for i in range(len(data)):\n",
    "                [rows.append(elem) for elem in flatten_list(flatten_json(data[i], prev_heading))]\n",
    "        else:\n",
    "            data.append(None)\n",
    "            [rows.append(elem) for elem in flatten_list(flatten_json(data[0], prev_heading))]\n",
    "\n",
    "        return df\n",
    "    return to_frame(data_in)\n",
    "\n",
    "if __name__ == '__main__':\n",
    "    with open('/Users/Saskia/rh_gme_2021_01_21.json') as json_file:\n",
    "        json_data = json.load(json_file)\n",
    "        \n",
    "\n",
    "    df = json_to_dataframe(json_data)\n",
    "    df.to_csv('data.csv', mode='w')"
   ]
  },
  {
   "cell_type": "code",
   "execution_count": 78,
   "id": "674ec64a",
   "metadata": {},
   "outputs": [
    {
     "ename": "IndentationError",
     "evalue": "unindent does not match any outer indentation level (<tokenize>, line 38)",
     "output_type": "error",
     "traceback": [
      "\u001b[0;36m  File \u001b[0;32m\"<tokenize>\"\u001b[0;36m, line \u001b[0;32m38\u001b[0m\n\u001b[0;31m    def csv_out(data):\u001b[0m\n\u001b[0m    ^\u001b[0m\n\u001b[0;31mIndentationError\u001b[0m\u001b[0;31m:\u001b[0m unindent does not match any outer indentation level\n"
     ]
    }
   ],
   "source": [
    "import json\n",
    "from pandas.io.json import json_normalize\n",
    "\n",
    "\n",
    "def loading_file():\n",
    "    #File path\n",
    "    file_path = '/Users/Saskia/rh_gme_2021_01_21.json'\n",
    "\n",
    "    #Loading json file\n",
    "    json_data = open(file_path)\n",
    "    data = json.load(json_data)\n",
    "    return data\n",
    "\n",
    "#Storing avaliable keys\n",
    "def data_keys(data):\n",
    "    keys = {}\n",
    "    for i in data:\n",
    "        for k in i.keys():\n",
    "            keys[k] = 1\n",
    "\n",
    "    keys = keys.keys()\n",
    "\n",
    "#Excluding nested arrays from keys - hard coded -> IMPROVE\n",
    "    new_keys = [x for x in keys if\n",
    "    x != 'user' and\n",
    "    x != 'content']\n",
    "\n",
    "    return new_keys\n",
    "\n",
    "#Excluding nested arrays from json dictionary\n",
    "def new_data(data, keys):\n",
    "    new_data = []\n",
    "    for i in range(0, len(data)):\n",
    "        x = {k:v for (k,v) in data[i].items() if k in keys }\n",
    "        new_data.append(x)\n",
    "    return new_data\n",
    "\n",
    " def csv_out(data):\n",
    "     data.to_csv('out.csv',encoding='utf-8')\n",
    "\n",
    "def main():\n",
    "     data_file = loading_file()\n",
    "     keys = data_keys(data_file)\n",
    "     table = new_data(data_file, keys)\n",
    "     csv_out(json_normalize(table))\n",
    "\n",
    "main()"
   ]
  },
  {
   "cell_type": "code",
   "execution_count": null,
   "id": "ca63807d",
   "metadata": {},
   "outputs": [],
   "source": [
    "#Function that recursively extracts values out of the object into a flattened dictionary\n",
    "def flatten_json(data):\n",
    "    flat = [] #list of flat dictionaries\n",
    "    def flatten(y):\n",
    "        out = {}\n",
    "\n",
    "        def flatten2(x, name=''):\n",
    "            if type(x) is dict:\n",
    "                for a in x:\n",
    "                    if a == \"name\": \n",
    "                            flatten2(x[\"value\"], name + x[a] + '_')\n",
    "                    else:  \n",
    "                        flatten2(x[a], name + a + '_')\n",
    "            elif type(x) is list:\n",
    "                for a in x:\n",
    "                    flatten2(a, name + '_')\n",
    "            else:\n",
    "                out[name[:-1]] = x\n",
    "\n",
    "        flatten2(y)\n",
    "        return out\n",
    "\n",
    "#Loop needed to flatten multiple objects\n",
    "    for i in range(len(data)):\n",
    "        flat.append(flatten(data[i]).copy())\n",
    "\n",
    "    return json_normalize(flat) "
   ]
  },
  {
   "cell_type": "code",
   "execution_count": null,
   "id": "cf37cf69",
   "metadata": {},
   "outputs": [],
   "source": [
    "def get_flat_json(json_data, header_string, header, row):\n",
    "    \"\"\"Parse json files with nested key-vales into flat lists using nested column labeling\"\"\"\n",
    "    for root_key, root_value in json_data.items():\n",
    "        if isinstance(root_value, dict):\n",
    "            get_flat_json(root_value, header_string + '_' + str(root_key), header, row)\n",
    "        elif isinstance(root_value, list):\n",
    "            for value_index in range(len(root_value)):\n",
    "                for nested_key, nested_value in root_value[value_index].items():\n",
    "                    header[0].append((header_string +\n",
    "                                      '_' + str(root_key) +\n",
    "                                      '_' + str(nested_key) +\n",
    "                                      '_' + str(value_index)).strip('_'))\n",
    "                    if nested_value is None:\n",
    "                        nested_value = ''\n",
    "                    row[0].append(str(nested_value))\n",
    "        else:\n",
    "            if root_value is None:\n",
    "                root_value = ''\n",
    "            header[0].append((header_string + '_' + str(root_key)).strip('_'))\n",
    "            row[0].append(root_value)\n",
    "    return header, row"
   ]
  },
  {
   "cell_type": "code",
   "execution_count": 79,
   "id": "f048abe9",
   "metadata": {},
   "outputs": [
    {
     "ename": "IndentationError",
     "evalue": "unexpected indent (4133568613.py, line 2)",
     "output_type": "error",
     "traceback": [
      "\u001b[0;36m  File \u001b[0;32m\"/var/folders/gp/h6xslnn90qxcnqjpjn3xwjp00000gn/T/ipykernel_15312/4133568613.py\"\u001b[0;36m, line \u001b[0;32m2\u001b[0m\n\u001b[0;31m    def parse_json(data):\u001b[0m\n\u001b[0m    ^\u001b[0m\n\u001b[0;31mIndentationError\u001b[0m\u001b[0;31m:\u001b[0m unexpected indent\n"
     ]
    }
   ],
   "source": [
    "import csv, json, os\n",
    "    def parse_json(data):\n",
    "        a_dict_accum = {}\n",
    "        for key, val in data.items():\n",
    "            print(\"key, val = \", key, val)\n",
    "            output.writerow([key])\n",
    "            output.writerow([val])\n",
    "            if isinstance(val, dict):\n",
    "                for a_key, a_val in val.items():\n",
    "                    print(\"a_key, a_val = \", a_key, a_val)\n",
    "                    output.writerow([a_key])\n",
    "                    output.writerow([a_val])\n",
    "                    a_dict_accum.update({a_key:a_val})\n",
    "                print(\"a_dict_accum = \", a_dict_accum)\n",
    "                parse_json(a_dict_accum)\n",
    "            elif isinstance(val, list):\n",
    "                print(\"val_list = \", val)\n",
    "                for a_list in val:\n",
    "                     print(\"a_list = \", a_list)\n",
    "                     output.writerow([a_list])\n",
    "                     if isinstance(a_list, dict):\n",
    "                         for a_key, a_val in a_list.items():\n",
    "                             print(\"a_key, a_val = \", a_key, a_val)\n",
    "                             output.writerow([a_key])\n",
    "                             output.writerow([a_val])    \n",
    "                             a_dict_accum.update({a_key:a_val})\n",
    "                         print(\"a_dict_accum = \", a_dict_accum)\n",
    "                         parse_json(a_dict_accum)\n",
    "    os.chdir('C://Users/Saskia')\n",
    "    fileInput = 'rh_gme_2021_01_21.json'\n",
    "    fileOutput = 'rh_gme_2021_01_21.csv'\n",
    "    inputFile = open(fileInput) #open json file\n",
    "    outputFile = open(fileOutput, 'w', newline='') #load csv file\n",
    "    data = json.load(inputFile) #load json content\n",
    "    output = csv.writer(outputFile) #create a csv.writer\n",
    "    output = parse_json(data)\n",
    "    inputFile.close() #close the input file\n",
    "    outputFile.close() #close the output file "
   ]
  },
  {
   "cell_type": "code",
   "execution_count": null,
   "id": "97dd0ec9",
   "metadata": {},
   "outputs": [],
   "source": []
  }
 ],
 "metadata": {
  "kernelspec": {
   "display_name": "Python 3 (ipykernel)",
   "language": "python",
   "name": "python3"
  },
  "language_info": {
   "codemirror_mode": {
    "name": "ipython",
    "version": 3
   },
   "file_extension": ".py",
   "mimetype": "text/x-python",
   "name": "python",
   "nbconvert_exporter": "python",
   "pygments_lexer": "ipython3",
   "version": "3.9.6"
  }
 },
 "nbformat": 4,
 "nbformat_minor": 5
}
